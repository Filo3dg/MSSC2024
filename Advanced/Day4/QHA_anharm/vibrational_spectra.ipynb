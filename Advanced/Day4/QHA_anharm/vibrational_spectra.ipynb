{
 "cells": [
  {
   "cell_type": "markdown",
   "id": "6b5a7d0b",
   "metadata": {},
   "source": [
    "# Plotting Vibrational Spectra: A Quick Overview"
   ]
  },
  {
   "cell_type": "markdown",
   "id": "0cb40050",
   "metadata": {},
   "source": [
    "<p>\n",
    "In CRYSTAL, vibrational frequency calculations are conducted at the Γ point. The dynamical matrix is obtained through numerical evaluation of the first derivative of the analytical atomic gradients. The system's point group symmetry is fully utilized to minimize the number of points (SCF+gradient) that need to be considered. During each numerical step, the residual symmetry is maintained throughout the SCF process and gradient calculations.\n",
    "</p>"
   ]
  },
  {
   "cell_type": "markdown",
   "id": "a7f08c4e",
   "metadata": {},
   "source": [
    "As usual, if not already available in our working environment, we need to install CRYSTALClear "
   ]
  },
  {
   "cell_type": "code",
   "execution_count": null,
   "id": "0c3fbefb",
   "metadata": {},
   "outputs": [],
   "source": [
    "pip install CRYSTALClear"
   ]
  },
  {
   "cell_type": "markdown",
   "id": "ad74740d",
   "metadata": {},
   "source": [
    "Let's import the required modules"
   ]
  },
  {
   "cell_type": "code",
   "execution_count": null,
   "id": "29cad7e8",
   "metadata": {},
   "outputs": [],
   "source": [
    "from CRYSTALClear.crystal_io import Crystal_output\n",
    "import CRYSTALClear.plot as CCplt\n",
    "import numpy as np"
   ]
  },
  {
   "cell_type": "markdown",
   "id": "a7b4085e",
   "metadata": {},
   "source": [
    "Now we need to create a CRYSTAL object (CO)"
   ]
  },
  {
   "cell_type": "code",
   "execution_count": null,
   "id": "8c414444",
   "metadata": {},
   "outputs": [],
   "source": [
    "mgo = Crystal_output(\"mgo_IR.out\")"
   ]
  },
  {
   "cell_type": "markdown",
   "id": "37dd3f5a",
   "metadata": {},
   "source": [
    "<p>Let's extract normal modes, harmonic frequencies and IR intensities</p>"
   ]
  },
  {
   "cell_type": "code",
   "execution_count": null,
   "id": "04bcbe20",
   "metadata": {},
   "outputs": [],
   "source": [
    "mgo.get_phonon()"
   ]
  },
  {
   "cell_type": "markdown",
   "id": "3036a935",
   "metadata": {},
   "source": [
    "We can now access the new attributes of our CO"
   ]
  },
  {
   "cell_type": "code",
   "execution_count": null,
   "id": "3d73e7df",
   "metadata": {},
   "outputs": [],
   "source": [
    "mgo.frequency"
   ]
  },
  {
   "cell_type": "code",
   "execution_count": null,
   "id": "944f17d8",
   "metadata": {},
   "outputs": [],
   "source": [
    "mgo.intens"
   ]
  },
  {
   "cell_type": "markdown",
   "id": "26e1d2b7",
   "metadata": {},
   "source": [
    "We notice that frequencies are expressed in THz. Let's convert them in wavenumbers"
   ]
  },
  {
   "cell_type": "code",
   "execution_count": null,
   "id": "d39b27cf",
   "metadata": {},
   "outputs": [],
   "source": [
    "mgo.frequency = mgo.frequency * 33.356"
   ]
  },
  {
   "cell_type": "markdown",
   "id": "30e4acf5",
   "metadata": {},
   "source": [
    "Now we need to pack in a single NumPy array both frequencies and intensities"
   ]
  },
  {
   "cell_type": "code",
   "execution_count": null,
   "id": "30036387",
   "metadata": {},
   "outputs": [],
   "source": [
    "IR_spectrum = np.vstack((mgo.frequency, mgo.intens)).T"
   ]
  },
  {
   "cell_type": "markdown",
   "id": "a4e588db",
   "metadata": {},
   "source": [
    "Our new array now looks like this"
   ]
  },
  {
   "cell_type": "code",
   "execution_count": null,
   "id": "d3a11ba6",
   "metadata": {},
   "outputs": [],
   "source": [
    "IR_spectrum"
   ]
  },
  {
   "cell_type": "markdown",
   "id": "367a4654",
   "metadata": {},
   "source": [
    "Great, we have all the ingredients to generate our plot. Let's use the `plot_cry_spec()` method asking for a Lorentzian shape."
   ]
  },
  {
   "cell_type": "code",
   "execution_count": null,
   "id": "9123660d",
   "metadata": {},
   "outputs": [],
   "source": [
    "fig = CCplt.plot_cry_spec(IR_spectrum, typeS=\"lorentz\")"
   ]
  },
  {
   "cell_type": "markdown",
   "id": "4854fbd5",
   "metadata": {},
   "source": [
    "We can select the spectral region by specifying `fmin` and `fmax`"
   ]
  },
  {
   "cell_type": "code",
   "execution_count": null,
   "id": "86a6fce7",
   "metadata": {},
   "outputs": [],
   "source": [
    "fig = CCplt.plot_cry_spec(IR_spectrum, typeS=\"lorentz\", fmin=0, fmax=500)"
   ]
  },
  {
   "cell_type": "markdown",
   "id": "6d0e8fe8",
   "metadata": {},
   "source": [
    "The broadening (a.k.a. HWHM) of the peak can be modelled by acting on the `bwidth` argument"
   ]
  },
  {
   "cell_type": "code",
   "execution_count": null,
   "id": "0040aa44",
   "metadata": {},
   "outputs": [],
   "source": [
    "fig = CCplt.plot_cry_spec(IR_spectrum, typeS=\"lorentz\", bwidth=1, fmin=0, fmax=500)"
   ]
  },
  {
   "cell_type": "markdown",
   "id": "aa3695da",
   "metadata": {},
   "source": [
    "Instead of using a Lorentzian profile, we can select a Gaussian profile (in this case the broadening can be modelled by acting on the `stdev` argument, which corresponds to the standard deviation of the Gaussian distribution)"
   ]
  },
  {
   "cell_type": "code",
   "execution_count": null,
   "id": "a7a62c76",
   "metadata": {},
   "outputs": [],
   "source": [
    "fig = CCplt.plot_cry_spec(IR_spectrum, typeS=\"gauss\", stdev=3, fmin=0, fmax=500)"
   ]
  },
  {
   "cell_type": "markdown",
   "id": "2553915c",
   "metadata": {},
   "source": [
    "If you want to shape the peak like a skilled sculptor, you can use a pseudo-Voigt profile, which is a combination of Lorentzian and Gaussian peak shapes (note that `eta` represents the fraction of Lorentzian character)"
   ]
  },
  {
   "cell_type": "code",
   "execution_count": null,
   "id": "3b813a31",
   "metadata": {},
   "outputs": [],
   "source": [
    "fig = CCplt.plot_cry_spec(IR_spectrum, typeS=\"pvoigt\", stdev=8, bwidth=1, eta=0.8, fmin=0, fmax=500)"
   ]
  },
  {
   "cell_type": "markdown",
   "id": "3e217aa0",
   "metadata": {},
   "source": [
    "Let's say that now we want to compare two IR spectra (static vs 500 K). Thus, we repeat the same preliminary steps for the new CO"
   ]
  },
  {
   "cell_type": "code",
   "execution_count": null,
   "id": "b22fdd63",
   "metadata": {},
   "outputs": [],
   "source": [
    "mgo500 = Crystal_output(\"mgo_IR_500K.out\")\n",
    "mgo500.get_phonon()\n",
    "mgo500.frequency = mgo500.frequency * 33.356\n",
    "IR_spectrum_500 = np.vstack((mgo500.frequency, mgo500.intens)).T"
   ]
  },
  {
   "cell_type": "markdown",
   "id": "b2728eed",
   "metadata": {},
   "source": [
    "We are ready to plot the two spectra by using the `plot_cry_spec_multi()` method, which requires a list of 2D NumPy arrays as the first argument"
   ]
  },
  {
   "cell_type": "code",
   "execution_count": null,
   "id": "90ffc1ad",
   "metadata": {},
   "outputs": [],
   "source": [
    "fig = CCplt.plot_cry_spec_multi([IR_spectrum, IR_spectrum_500], typeS=\"lorentz\", style=['b-.', 'r'])"
   ]
  }
 ],
 "metadata": {
  "kernelspec": {
   "display_name": "Python 3 (ipykernel)",
   "language": "python",
   "name": "python3"
  },
  "language_info": {
   "codemirror_mode": {
    "name": "ipython",
    "version": 3
   },
   "file_extension": ".py",
   "mimetype": "text/x-python",
   "name": "python",
   "nbconvert_exporter": "python",
   "pygments_lexer": "ipython3",
   "version": "3.9.16"
  }
 },
 "nbformat": 4,
 "nbformat_minor": 5
}
